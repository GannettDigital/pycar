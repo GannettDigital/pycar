{
 "cells": [
  {
   "cell_type": "code",
   "execution_count": 1,
   "metadata": {
    "collapsed": false
   },
   "outputs": [],
   "source": [
    "import agate"
   ]
  },
  {
   "cell_type": "markdown",
   "metadata": {},
   "source": [
    "open the Master.csv and Salaries.csv tables"
   ]
  },
  {
   "cell_type": "code",
   "execution_count": 2,
   "metadata": {
    "collapsed": true
   },
   "outputs": [],
   "source": [
    "master = agate.Table.from_csv('Master.csv') # File with player details\n",
    "salary = agate.Table.from_csv('Salaries.csv') #File with baseball players' salaries"
   ]
  },
  {
   "cell_type": "markdown",
   "metadata": {},
   "source": [
    "check to what type each item is with `print(table)`"
   ]
  },
  {
   "cell_type": "code",
   "execution_count": 3,
   "metadata": {
    "collapsed": false
   },
   "outputs": [
    {
     "name": "stdout",
     "output_type": "stream",
     "text": [
      "| column       | data_type |\n",
      "| ------------ | --------- |\n",
      "| playerID     | Text      |\n",
      "| birthYear    | Number    |\n",
      "| birthMonth   | Number    |\n",
      "| birthDay     | Number    |\n",
      "| birthCountry | Text      |\n",
      "| birthState   | Text      |\n",
      "| birthCity    | Text      |\n",
      "| deathYear    | Number    |\n",
      "| deathMonth   | Number    |\n",
      "| deathDay     | Number    |\n",
      "| deathCountry | Text      |\n",
      "| deathState   | Text      |\n",
      "| deathCity    | Text      |\n",
      "| nameFirst    | Text      |\n",
      "| nameLast     | Text      |\n",
      "| nameGiven    | Text      |\n",
      "| weight       | Number    |\n",
      "| height       | Number    |\n",
      "| bats         | Text      |\n",
      "| throws       | Text      |\n",
      "| debut        | Date      |\n",
      "| finalGame    | Date      |\n",
      "| retroID      | Text      |\n",
      "| bbrefID      | Text      |\n",
      "\n",
      "| column   | data_type |\n",
      "| -------- | --------- |\n",
      "| yearID   | Number    |\n",
      "| teamID   | Text      |\n",
      "| lgID     | Text      |\n",
      "| playerID | Text      |\n",
      "| salary   | Number    |\n",
      "\n"
     ]
    }
   ],
   "source": [
    "print(master)\n",
    "print(salary)"
   ]
  },
  {
   "cell_type": "markdown",
   "metadata": {},
   "source": [
    "print out sample data with `table.print_table()`<br>\n",
    "see additional options by pressing `ctrl + tab` over the `print_table()` method"
   ]
  },
  {
   "cell_type": "code",
   "execution_count": 4,
   "metadata": {
    "collapsed": false
   },
   "outputs": [
    {
     "name": "stdout",
     "output_type": "stream",
     "text": [
      "| playerID  | birthYear | birthMonth | birthDay | birthCountry | birthState | ... |\n",
      "| --------- | --------- | ---------- | -------- | ------------ | ---------- | --- |\n",
      "| aardsda01 |     1,981 |         12 |       27 | USA          | CO         | ... |\n",
      "| aaronha01 |     1,934 |          2 |        5 | USA          | AL         | ... |\n",
      "| aaronto01 |     1,939 |          8 |        5 | USA          | AL         | ... |\n",
      "| aasedo01  |     1,954 |          9 |        8 | USA          | CA         | ... |\n",
      "| abadan01  |     1,972 |          8 |       25 | USA          | FL         | ... |\n",
      "| abadfe01  |     1,985 |         12 |       17 | D.R.         | La Romana  | ... |\n",
      "| abadijo01 |     1,854 |         11 |        4 | USA          | PA         | ... |\n",
      "| abbated01 |     1,877 |          4 |       15 | USA          | PA         | ... |\n",
      "| abbeybe01 |     1,869 |         11 |       11 | USA          | VT         | ... |\n",
      "| abbeych01 |     1,866 |         10 |       14 | USA          | NE         | ... |\n",
      "| abbotda01 |     1,862 |          3 |       16 | USA          | OH         | ... |\n",
      "| abbotfr01 |     1,874 |         10 |       22 | USA          | OH         | ... |\n",
      "| abbotgl01 |     1,951 |          2 |       16 | USA          | AR         | ... |\n",
      "| abbotje01 |     1,972 |          8 |       17 | USA          | GA         | ... |\n",
      "| abbotji01 |     1,967 |          9 |       19 | USA          | MI         | ... |\n",
      "| abbotku01 |     1,969 |          6 |        2 | USA          | OH         | ... |\n",
      "| abbotky01 |     1,968 |          2 |       18 | USA          | MA         | ... |\n",
      "| abbotod01 |     1,888 |          9 |        5 | USA          | PA         | ... |\n",
      "| abbotpa01 |     1,967 |          9 |       15 | USA          | CA         | ... |\n",
      "| aberal01  |     1,927 |          7 |       31 | USA          | OH         | ... |\n",
      "| ...       |       ... |        ... |      ... | ...          | ...        | ... |\n",
      "| yearID | teamID | lgID | playerID  |    salary |\n",
      "| ------ | ------ | ---- | --------- | --------- |\n",
      "|  1,985 | ATL    | NL   | barkele01 |   870,000 |\n",
      "|  1,985 | ATL    | NL   | bedrost01 |   550,000 |\n",
      "|  1,985 | ATL    | NL   | benedbr01 |   545,000 |\n",
      "|  1,985 | ATL    | NL   | campri01  |   633,333 |\n",
      "|  1,985 | ATL    | NL   | ceronri01 |   625,000 |\n",
      "|  1,985 | ATL    | NL   | chambch01 |   800,000 |\n",
      "|  1,985 | ATL    | NL   | dedmoje01 |   150,000 |\n",
      "|  1,985 | ATL    | NL   | forstte01 |   483,333 |\n",
      "|  1,985 | ATL    | NL   | garbege01 |   772,000 |\n",
      "|  1,985 | ATL    | NL   | harpete01 |   250,000 |\n",
      "|  1,985 | ATL    | NL   | hornebo01 | 1,500,000 |\n",
      "|  1,985 | ATL    | NL   | hubbagl01 |   455,000 |\n",
      "|  1,985 | ATL    | NL   | mahleri01 |   407,500 |\n",
      "|  1,985 | ATL    | NL   | mcmurcr01 |   275,000 |\n",
      "|  1,985 | ATL    | NL   | mumphje01 |   775,000 |\n",
      "|  1,985 | ATL    | NL   | murphda05 | 1,625,000 |\n",
      "|  1,985 | ATL    | NL   | oberkke01 |   616,667 |\n",
      "|  1,985 | ATL    | NL   | perezpa01 |   450,000 |\n",
      "|  1,985 | ATL    | NL   | perryge01 |   120,000 |\n",
      "|  1,985 | ATL    | NL   | ramirra01 |   750,000 |\n",
      "|    ... | ...    | ...  | ...       |       ... |\n"
     ]
    }
   ],
   "source": [
    "master.print_table()\n",
    "salary.print_table()"
   ]
  },
  {
   "cell_type": "markdown",
   "metadata": {},
   "source": [
    "join the two csv's"
   ]
  },
  {
   "cell_type": "code",
   "execution_count": 5,
   "metadata": {
    "collapsed": false
   },
   "outputs": [],
   "source": [
    "joined = master.join(salary)"
   ]
  },
  {
   "cell_type": "markdown",
   "metadata": {},
   "source": [
    "see what columns the `joined` table contains"
   ]
  },
  {
   "cell_type": "code",
   "execution_count": 6,
   "metadata": {
    "collapsed": false
   },
   "outputs": [
    {
     "name": "stdout",
     "output_type": "stream",
     "text": [
      "| column       | data_type |\n",
      "| ------------ | --------- |\n",
      "| playerID     | Text      |\n",
      "| birthYear    | Number    |\n",
      "| birthMonth   | Number    |\n",
      "| birthDay     | Number    |\n",
      "| birthCountry | Text      |\n",
      "| birthState   | Text      |\n",
      "| birthCity    | Text      |\n",
      "| deathYear    | Number    |\n",
      "| deathMonth   | Number    |\n",
      "| deathDay     | Number    |\n",
      "| deathCountry | Text      |\n",
      "| deathState   | Text      |\n",
      "| deathCity    | Text      |\n",
      "| nameFirst    | Text      |\n",
      "| nameLast     | Text      |\n",
      "| nameGiven    | Text      |\n",
      "| weight       | Number    |\n",
      "| height       | Number    |\n",
      "| bats         | Text      |\n",
      "| throws       | Text      |\n",
      "| debut        | Date      |\n",
      "| finalGame    | Date      |\n",
      "| retroID      | Text      |\n",
      "| bbrefID      | Text      |\n",
      "| yearID       | Number    |\n",
      "| teamID       | Text      |\n",
      "| lgID         | Text      |\n",
      "| playerID2    | Text      |\n",
      "| salary       | Number    |\n",
      "\n"
     ]
    }
   ],
   "source": [
    "print(joined)"
   ]
  },
  {
   "cell_type": "markdown",
   "metadata": {},
   "source": [
    "check if all the players have a salary assigned. The easiest way is to deduct the length of the `joined` table from the `master` table"
   ]
  },
  {
   "cell_type": "code",
   "execution_count": 7,
   "metadata": {
    "collapsed": false
   },
   "outputs": [
    {
     "data": {
      "text/plain": [
       "0"
      ]
     },
     "execution_count": 7,
     "metadata": {},
     "output_type": "execute_result"
    }
   ],
   "source": [
    "len(master) - len(joined)"
   ]
  },
  {
   "cell_type": "markdown",
   "metadata": {},
   "source": [
    "!!! the join takes a (seemingly) random entry from the dataset,<br>\n",
    "given the year range for `moyerja01` is 1986 - 2012"
   ]
  },
  {
   "cell_type": "code",
   "execution_count": 8,
   "metadata": {
    "collapsed": false
   },
   "outputs": [
    {
     "name": "stdout",
     "output_type": "stream",
     "text": [
      "| yearID |\n",
      "| ------ |\n",
      "|  1,999 |\n"
     ]
    }
   ],
   "source": [
    "joined.where(lambda player: player[\"playerID\"] == \"moyerja01\").select(\"yearID\").print_table()"
   ]
  },
  {
   "cell_type": "markdown",
   "metadata": {},
   "source": [
    "## What is the average (mean, median, max, min) salary?"
   ]
  },
  {
   "cell_type": "code",
   "execution_count": 9,
   "metadata": {
    "collapsed": false
   },
   "outputs": [
    {
     "data": {
      "text/plain": [
       "Decimal('1466053.222805900456330255757')"
      ]
     },
     "execution_count": 9,
     "metadata": {},
     "output_type": "execute_result"
    }
   ],
   "source": [
    "joined.aggregate(agate.Mean('salary'))"
   ]
  },
  {
   "cell_type": "code",
   "execution_count": 10,
   "metadata": {
    "collapsed": false
   },
   "outputs": [
    {
     "data": {
      "text/plain": [
       "Decimal('438750')"
      ]
     },
     "execution_count": 10,
     "metadata": {},
     "output_type": "execute_result"
    }
   ],
   "source": [
    "joined.aggregate(agate.Median('salary'))"
   ]
  },
  {
   "cell_type": "code",
   "execution_count": 11,
   "metadata": {
    "collapsed": false
   },
   "outputs": [
    {
     "data": {
      "text/plain": [
       "Decimal('26000000')"
      ]
     },
     "execution_count": 11,
     "metadata": {},
     "output_type": "execute_result"
    }
   ],
   "source": [
    "joined.aggregate(agate.Max('salary'))"
   ]
  },
  {
   "cell_type": "code",
   "execution_count": 12,
   "metadata": {
    "collapsed": false
   },
   "outputs": [
    {
     "data": {
      "text/plain": [
       "Decimal('0')"
      ]
     },
     "execution_count": 12,
     "metadata": {},
     "output_type": "execute_result"
    }
   ],
   "source": [
    "joined.aggregate(agate.Min('salary'))"
   ]
  },
  {
   "cell_type": "markdown",
   "metadata": {},
   "source": [
    "## Who makes the most?"
   ]
  },
  {
   "cell_type": "code",
   "execution_count": 13,
   "metadata": {
    "collapsed": false
   },
   "outputs": [],
   "source": [
    "highest = joined.aggregate(agate.Max('salary'))"
   ]
  },
  {
   "cell_type": "code",
   "execution_count": 14,
   "metadata": {
    "collapsed": false
   },
   "outputs": [
    {
     "name": "stdout",
     "output_type": "stream",
     "text": [
      "| nameFirst | nameLast | birthCountry |     salary |\n",
      "| --------- | -------- | ------------ | ---------- |\n",
      "| Frank     | Thompson |              | 26,000,000 |\n"
     ]
    }
   ],
   "source": [
    "joined.where(lambda player: player[\"salary\"] == highest).select([\"nameFirst\",\"nameLast\",\"birthCountry\",\"salary\"]).print_table()"
   ]
  },
  {
   "cell_type": "markdown",
   "metadata": {},
   "source": [
    "## What are the most common baseball players salaries?"
   ]
  },
  {
   "cell_type": "markdown",
   "metadata": {},
   "source": [
    "Draw a histogram. <br>\n",
    "*([documentation reference](http://agate.readthedocs.io/en/1.5.5/cookbook/charting.html?highlight=pivot))*"
   ]
  },
  {
   "cell_type": "code",
   "execution_count": 15,
   "metadata": {
    "collapsed": false
   },
   "outputs": [
    {
     "name": "stdout",
     "output_type": "stream",
     "text": [
      "salary                     Count\n",
      "[0 - 3,000,000)           15,897 ▓░░░░░░░░░░░░░░░░░░░░░░░░░░░░░░░░░░░░░░░░░░░░░░░░░░░░░░░░░░░░░░░░░░░░                  \n",
      "[3,000,000 - 6,000,000)    1,844 ▓░░░░░░░░                                                                              \n",
      "[6,000,000 - 9,000,000)      662 ▓░░░                                                                                   \n",
      "[9,000,000 - 12,000,000)     241 ▓░                                                                                     \n",
      "[12,000,000 - 15,000,000)    129 ▓░                                                                                     \n",
      "[15,000,000 - 18,000,000)     45 ▓                                                                                      \n",
      "[18,000,000 - 21,000,000)     16 ▓                                                                                      \n",
      "[21,000,000 - 24,000,000)     11 ▓                                                                                      \n",
      "[24,000,000 - 27,000,000)      1 ▓                                                                                      \n",
      "                                 +---------------------+--------------------+--------------------+---------------------+\n",
      "                                 0                   5,000               10,000               15,000              20,000\n"
     ]
    }
   ],
   "source": [
    "binned_salaries = joined.bins('salary', 10)\n",
    "binned_salaries.print_bars('salary')"
   ]
  },
  {
   "cell_type": "markdown",
   "metadata": {},
   "source": [
    "## Who are the top 10% highest-paid players?"
   ]
  },
  {
   "cell_type": "markdown",
   "metadata": {},
   "source": [
    "calculate percentiles"
   ]
  },
  {
   "cell_type": "code",
   "execution_count": 16,
   "metadata": {
    "collapsed": false
   },
   "outputs": [],
   "source": [
    "percentiles = joined.aggregate(agate.Percentiles('salary'))"
   ]
  },
  {
   "cell_type": "markdown",
   "metadata": {},
   "source": [
    "filter salaries larger or equal than the 90th percentile"
   ]
  },
  {
   "cell_type": "code",
   "execution_count": 17,
   "metadata": {
    "collapsed": true
   },
   "outputs": [],
   "source": [
    "top_ten_percent = joined.where(lambda r: r['salary'] >= percentiles[90])"
   ]
  },
  {
   "cell_type": "markdown",
   "metadata": {},
   "source": [
    "order the data and `select` the information on the highest paid players"
   ]
  },
  {
   "cell_type": "code",
   "execution_count": 18,
   "metadata": {
    "collapsed": false
   },
   "outputs": [
    {
     "name": "stdout",
     "output_type": "stream",
     "text": [
      "| nameFirst  | nameLast   | birthYear | birthState   |     salary |\n",
      "| ---------- | ---------- | --------- | ------------ | ---------- |\n",
      "| Frank      | Thompson   |           |              | 26,000,000 |\n",
      "| Gene       | Wright     |     1,878 | OH           | 23,428,571 |\n",
      "| Ricky      | Wright     |     1,958 | TX           | 22,708,525 |\n",
      "| Heathcliff | Slocumb    |     1,966 | NY           | 22,500,000 |\n",
      "| Ribs       | Raney      |     1,923 | MI           | 22,000,000 |\n",
      "| Nick       | Rumbelow   |     1,991 | TX           | 22,000,000 |\n",
      "| Chris      | Short      |     1,937 | DE           | 22,000,000 |\n",
      "| Bill       | Stafford   |     1,938 | NY           | 22,000,000 |\n",
      "| Champ      | Summers    |     1,946 | WA           | 22,000,000 |\n",
      "| Lou        | Tost       |     1,911 | WA           | 22,000,000 |\n",
      "| Colin      | Ward       |     1,960 | CA           | 21,680,727 |\n",
      "| Harry      | Wright     |     1,835 |              | 21,600,000 |\n",
      "| Paul       | Waner      |     1,903 | OK           | 20,600,000 |\n",
      "| Lloyd      | Waner      |     1,906 | OK           | 20,428,571 |\n",
      "| Felix      | Sanchez    |     1,981 | Puerto Plata | 20,000,000 |\n",
      "| Hunter     | Strickland |     1,988 | GA           | 19,700,000 |\n",
      "| Andrew     | Thompson   |     1,846 | IL           | 19,600,000 |\n",
      "| Amos       | Rusie      |     1,871 | IN           | 19,400,000 |\n",
      "| John       | Vukovich   |     1,947 | CA           | 19,369,019 |\n",
      "| George     | Weiss      |     1,894 | CT           | 19,331,470 |\n",
      "| ...        | ...        |       ... | ...          |        ... |\n"
     ]
    }
   ],
   "source": [
    "ordered = top_ten_percent.order_by('salary', reverse=True)\n",
    "ordered.select([\"nameFirst\",\"nameLast\",\"birthYear\",\"birthState\",\"salary\"]).print_table()"
   ]
  },
  {
   "cell_type": "markdown",
   "metadata": {},
   "source": [
    "make a bar chart of the 10 highest paid players"
   ]
  },
  {
   "cell_type": "code",
   "execution_count": 19,
   "metadata": {
    "collapsed": false
   },
   "outputs": [
    {
     "name": "stdout",
     "output_type": "stream",
     "text": [
      "nameLast     salary\n",
      "Thompson 26,000,000 ▓░░░░░░░░░░░░░░░░░░░░░░░░░░░░░░░░░░░░░░░░░░░░░░░░░░░░░░░░░░░░░░░░░░░░░░░░░░░░░░░░░░░░░░             \n",
      "Wright   23,428,571 ▓░░░░░░░░░░░░░░░░░░░░░░░░░░░░░░░░░░░░░░░░░░░░░░░░░░░░░░░░░░░░░░░░░░░░░░░░░░░░░                      \n",
      "Wright   22,708,525 ▓░░░░░░░░░░░░░░░░░░░░░░░░░░░░░░░░░░░░░░░░░░░░░░░░░░░░░░░░░░░░░░░░░░░░░░░░░░░                        \n",
      "Slocumb  22,500,000 ▓░░░░░░░░░░░░░░░░░░░░░░░░░░░░░░░░░░░░░░░░░░░░░░░░░░░░░░░░░░░░░░░░░░░░░░░░░░                         \n",
      "Raney    22,000,000 ▓░░░░░░░░░░░░░░░░░░░░░░░░░░░░░░░░░░░░░░░░░░░░░░░░░░░░░░░░░░░░░░░░░░░░░░░░░                          \n",
      "Rumbelow 22,000,000 ▓░░░░░░░░░░░░░░░░░░░░░░░░░░░░░░░░░░░░░░░░░░░░░░░░░░░░░░░░░░░░░░░░░░░░░░░░░                          \n",
      "Short    22,000,000 ▓░░░░░░░░░░░░░░░░░░░░░░░░░░░░░░░░░░░░░░░░░░░░░░░░░░░░░░░░░░░░░░░░░░░░░░░░░                          \n",
      "Stafford 22,000,000 ▓░░░░░░░░░░░░░░░░░░░░░░░░░░░░░░░░░░░░░░░░░░░░░░░░░░░░░░░░░░░░░░░░░░░░░░░░░                          \n",
      "Summers  22,000,000 ▓░░░░░░░░░░░░░░░░░░░░░░░░░░░░░░░░░░░░░░░░░░░░░░░░░░░░░░░░░░░░░░░░░░░░░░░░░                          \n",
      "Tost     22,000,000 ▓░░░░░░░░░░░░░░░░░░░░░░░░░░░░░░░░░░░░░░░░░░░░░░░░░░░░░░░░░░░░░░░░░░░░░░░░░                          \n",
      "                    +------------------------+------------------------+-----------------------+------------------------+\n",
      "                    0                    7,500,000               15,000,000              22,500,000           30,000,000\n"
     ]
    }
   ],
   "source": [
    "ordered.limit(10).print_bars(\"nameLast\", 'salary')"
   ]
  },
  {
   "cell_type": "markdown",
   "metadata": {},
   "source": [
    "save the data"
   ]
  },
  {
   "cell_type": "code",
   "execution_count": 20,
   "metadata": {
    "collapsed": true
   },
   "outputs": [],
   "source": [
    "top_ten_percent.to_csv('highest-paid.csv')"
   ]
  }
 ],
 "metadata": {
  "anaconda-cloud": {},
  "kernelspec": {
   "display_name": "Python [conda root]",
   "language": "python",
   "name": "conda-root-py"
  },
  "language_info": {
   "codemirror_mode": {
    "name": "ipython",
    "version": 3
   },
   "file_extension": ".py",
   "mimetype": "text/x-python",
   "name": "python",
   "nbconvert_exporter": "python",
   "pygments_lexer": "ipython3",
   "version": "3.5.2"
  }
 },
 "nbformat": 4,
 "nbformat_minor": 1
}
